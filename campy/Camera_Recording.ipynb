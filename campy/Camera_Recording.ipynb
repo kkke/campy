{
 "cells": [
  {
   "cell_type": "code",
   "execution_count": null,
   "id": "4b2dae35",
   "metadata": {},
   "outputs": [],
   "source": [
    "# pypylon \n",
    "import pypylon.pylon as py\n",
    "# plotting for graphs and display of image\n",
    "import pypylon.genicam as geni\n",
    "\n",
    "import matplotlib.pyplot as plt\n",
    "# linear algebra and basic math on image matrices\n",
    "import numpy as np\n",
    "# OpenCV for image processing functions\n",
    "import time\n",
    "from imageio import get_writer\n",
    "import os\n",
    "import sys\n",
    "import threading, queue\n",
    "from collections import deque\n",
    "import multiprocessing as mp\n",
    "from campy.cameras.basler import cam\n",
    "from campy import CampyParams\n",
    "from campy.writer import campipe\n",
    "from campy.display import display\n",
    "import argparse\n",
    "import ast\n",
    "import yaml\n",
    "import copy"
   ]
  },
  {
   "cell_type": "code",
   "execution_count": null,
   "id": "88ba336c",
   "metadata": {},
   "outputs": [],
   "source": [
    "# Recording parameters\n",
    "params = {}\n",
    "params[\"videoFolder\"] = \"./test\"\n",
    "# camSettings: [\"./videoSettings/Cylinder_front_acA640-750um_22636055.pfs\", \"./videoSettings/Cylinder_side_acA720-520um_40190567.pfs\",\"./videoSettings/Cylinder_top_acA800-510um_23193015\"\n",
    "\n",
    "params[\"camSettings\"] =  [\"./videoSettings/Cylinder_front_acA640-750um_22636055.pfs\",\"./videoSettings/Cylinder_top_acA800-510um_23193015.pfs\", \"./videoSettings/Cylinder_side_acA720-520um_40190567.pfs\"]\n",
    "params[\"frameRate\"]   = 50\n",
    "params[\"recTimeInSec\"] = 40\n",
    "\n",
    "# Camera parameters\n",
    "params[\"cameraMake\"] = \"basler\"\n",
    "params[\"numCams\"] = 3\n",
    "params[\"cameraNames\"]= ['Camera1','Camera2','Camera3']\n",
    "\n",
    "# Compression parameters\n",
    "params[\"ffmpeg_path\"]=[]\n",
    "params[\"gpus\"] = [0,0,0]\n",
    "params[\"pixelFormatInput\"] = \"gray\"\n",
    "params[\"pixelFormatOutput\"] =  \"gray\"\n",
    "params[\"quality\"] = \"21\"\n",
    "\n",
    "# Display parameters\n",
    "params[\"chunkLengthInSec\"] = 30\n",
    "params[\"displayFrameRate\"] = 10\n",
    "params[\"displayDownsample\"] =  2"
   ]
  },
  {
   "cell_type": "code",
   "execution_count": null,
   "id": "ddf7a2d9",
   "metadata": {},
   "outputs": [],
   "source": [
    "print(params)"
   ]
  },
  {
   "cell_type": "code",
   "execution_count": null,
   "id": "a8d54f71",
   "metadata": {},
   "outputs": [],
   "source": [
    "def create_cam_params(params, n_cam):\n",
    "    # Insert camera-specific metadata from parameters into cam_params dictionary\n",
    "    cam_params = copy.deepcopy(params)\n",
    "    cam_params[\"camSettings\"] = params[\"camSettings\"][n_cam]\n",
    "    cam_params[\"n_cam\"] = n_cam\n",
    "    cam_params[\"cameraName\"] = params[\"cameraNames\"][n_cam]\n",
    "    cam_params[\"gpu\"] = params[\"gpus\"][n_cam]\n",
    "    cam_params[\"baseFolder\"] = os.getcwd()\n",
    "\n",
    "    # Other metadata\n",
    "    # date\n",
    "    # time\n",
    "    # hardware?\n",
    "    # os?\n",
    "\n",
    "    return cam_params"
   ]
  },
  {
   "cell_type": "code",
   "execution_count": null,
   "id": "45558f6f",
   "metadata": {},
   "outputs": [],
   "source": [
    "def acquire_one_camera(n_cam):\n",
    "    # Initializes metadata dictionary for this camera stream\n",
    "    # and inserts important configuration details\n",
    "\n",
    "    # cam_params[\"cameraMake\"] == \"basler\":\n",
    "    #     from campy.cameras.basler import cam\n",
    "\n",
    "    cam_params = create_cam_params(params, n_cam)\n",
    "\n",
    "    # Open camera n_cam\n",
    "    camera, cam_params = cam.Open(cam_params)\n",
    "\n",
    "    # Initialize queues for display window and video writer\n",
    "    writeQueue = deque()\n",
    "    stopQueue = deque([], 1)\n",
    "\n",
    "    # Start image window display ('consumer' thread)\n",
    "    if sys.platform == 'win32' and cam_params[\"cameraMake\"] == \"basler\":\n",
    "        dispQueue = []\n",
    "    else:\n",
    "        dispQueue = deque([], 2)\n",
    "        threading.Thread(\n",
    "            target=display.DisplayFrames,\n",
    "            daemon=True,\n",
    "            args=(cam_params, dispQueue,),\n",
    "        ).start()\n",
    "\n",
    "    # Start grabbing frames ('producer' thread)\n",
    "    threading.Thread(\n",
    "        target = cam.GrabFrames,\n",
    "        daemon=True,\n",
    "        args = (cam_params,\n",
    "                camera,\n",
    "                writeQueue,\n",
    "                dispQueue,\n",
    "                stopQueue),\n",
    "        ).start()\n",
    "\n",
    "    # Start video file writer (main 'consumer' thread)\n",
    "    campipe.WriteFrames(cam_params, writeQueue, stopQueue)"
   ]
  },
  {
   "cell_type": "code",
   "execution_count": null,
   "id": "e9c0f4bc",
   "metadata": {},
   "outputs": [],
   "source": [
    "cam_params = create_cam_params(params, 1)"
   ]
  },
  {
   "cell_type": "code",
   "execution_count": null,
   "id": "b1c4eb12",
   "metadata": {},
   "outputs": [],
   "source": [
    "print(cam_params)"
   ]
  },
  {
   "cell_type": "code",
   "execution_count": null,
   "id": "e28ef8e2",
   "metadata": {},
   "outputs": [],
   "source": [
    "# Open camera n_cam\n",
    "camera, cam_params = cam.Open(cam_params)"
   ]
  },
  {
   "cell_type": "code",
   "execution_count": null,
   "id": "06b9f62b-34d8-4fdb-81f0-e3a3eb90e39c",
   "metadata": {},
   "outputs": [],
   "source": [
    "# Initialize queues for display window and video writer\n",
    "writeQueue = deque()\n",
    "stopQueue = deque([], 1)\n",
    "# Start image window display ('consumer' thread)\n",
    "if sys.platform == 'win32' and cam_params[\"cameraMake\"] == \"basler\":\n",
    "     dispQueue = []\n",
    "else:\n",
    "    dispQueue = deque([], 2)\n",
    "    threading.Thread(\n",
    "        target=display.DisplayFrames,\n",
    "         daemon=True,\n",
    "        args=(cam_params, dispQueue,),\n",
    "    ).start()\n",
    "\n",
    "# Start grabbing frames ('producer' thread)\n",
    "threading.Thread(\n",
    "    target = cam.GrabFrames,\n",
    "    daemon=True,\n",
    "    args = (cam_params,\n",
    "            camera,\n",
    "            writeQueue,\n",
    "            dispQueue,\n",
    "            stopQueue),\n",
    "    ).start()\n",
    "\n",
    "# Start video file writer (main 'consumer' thread)\n",
    "campipe.WriteFrames(cam_params, writeQueue, stopQueue)"
   ]
  },
  {
   "cell_type": "code",
   "execution_count": null,
   "id": "9e72163a",
   "metadata": {},
   "outputs": [],
   "source": [
    "cam_array.StopGrabbing()"
   ]
  },
  {
   "cell_type": "code",
   "execution_count": null,
   "id": "df5f1ee1",
   "metadata": {},
   "outputs": [],
   "source": [
    "# store a unique number for each camera to identify the incoming images\n",
    "for idx, cam in enumerate(cam_array):\n",
    "    ModelName = cam.DeviceInfo.GetModelName()\n",
    "    print(f\"set context {idx} for camera {ModelName}\")\n",
    "    cam.SetCameraContext(idx)\n",
    "    window_name = f'Camera-{idx:03}'\n",
    "    params[\"camSettings\"] = [\"./videoSettings/Cylinder_front_acA640-750um_22636055.pfs\", \"./videoSettings/Cylinder_side_acA720-520um_40190567.pfs\",\"./videoSettings/Cylinder_top_acA800-510um_23193015\"\n",
    "\n",
    "                             params[\"n_cam\"] = []\n",
    "    params[\"cameraName\"] = ['Camera1', 'Camera2', 'Camera3']\n",
    "    params[\"gpu\"] = []\n",
    "    params[]    \n",
    "    cam_params = params\n",
    "    cam_params[\"n_cam\"] = n_cam\n",
    "    cam_params[\"cameraName\"] = params[\"cameraNames\"][n_cam]\n",
    "    cam_params[\"gpu\"] = params[\"gpus\"][n_cam]\n",
    "    cam_params[\"baseFolder\"] = os.getcwd()\n"
   ]
  },
  {
   "cell_type": "code",
   "execution_count": null,
   "id": "efd70b60",
   "metadata": {},
   "outputs": [],
   "source": [
    "# set the exposure time for each camera\n",
    "for idx, cam in enumerate(cam_array):\n",
    "    ModelName = cam.DeviceInfo.GetModelName()\n",
    "    print(f\"set Exposuretime {idx} for camera {ModelName}\")\n",
    "    cam.ExposureTime.SetValue(6000)\n",
    "    print(cam.ExposureTime.Unit)\n",
    "    print(cam.ExposureTime.Value)\n",
    "    print(cam.ExposureTime.Min)\n",
    "    print(cam.ExposureTime.Max)\n",
    "    cam.ChunkModeActive = True\n",
    "    cam.ChunkSelector = \"LineStatusAll\"\n",
    "    cam.ChunkEnable = True\n",
    "    # get clean powerup state\n",
    "    cam.UserSetSelector = \"Default\"\n",
    "    cam.UserSetLoad.Execute()\n",
    "\n",
    "    #\n",
    "    cam.LineSelector = \"Line4\"\n",
    "    cam.LineMode = \"Input\"\n",
    "\n",
    "    cam.TriggerSelector = \"FrameStart\"\n",
    "    cam.TriggerSource = \"Line4\"\n",
    "    cam.TriggerMode = \"On\"\n",
    "    cam.TriggerActivation.Value\n",
    "    print(cam.Height())\n",
    "    print(cam.Width())"
   ]
  },
  {
   "cell_type": "code",
   "execution_count": null,
   "id": "1ca6becd",
   "metadata": {},
   "outputs": [],
   "source": [
    "writer = get_writer(\n",
    "       'output-filename.mkv',  # mkv players often support H.264\n",
    "        fps=50,  # FPS is in units Hz; should be real-time.\n",
    "        codec='libx264',  # When used properly, this is basically \"PNG for video\" (i.e. lossless)\n",
    "        quality=None,  # disables variable compression\n",
    "        ffmpeg_params=[  # compatibility with older library versions\n",
    "            '-preset',   # set to fast, faster, veryfast, superfast, ultrafast\n",
    "            'fast',      # for higher speed but worse compression\n",
    "            '-crf',      # quality; set to 0 for lossless, but keep in mind\n",
    "            '24'         # that the camera probably adds static anyway\n",
    "        ]\n",
    ")"
   ]
  },
  {
   "cell_type": "code",
   "execution_count": null,
   "id": "0b6f1fa9",
   "metadata": {},
   "outputs": [],
   "source": [
    "vid_cod = cv2.VideoWriter_fourcc('X','V','I','D')\n",
    "output = cv2.VideoWriter('C:\\Users\\WangLab\\Documents\\VideoData\\test.avi', vid_cod, 50.0, (480, 640))\n",
    "# Loop until you hit the Esc key\n",
    "while True:\n",
    "    # Capture the current frame\n",
    "    ret, frame = cap.read()\n",
    "    # Display the image\n",
    "    if ret:\n",
    "        cv2.imshow('Webcam', frame)\n",
    "        output.write(frame)\n",
    "    # Detect if the Esc key has been pressed\n",
    "    c = cv2.waitKey(1)\n",
    "    if c == 27:\n",
    "        break\n",
    "# Release the video capture object\n",
    "cap.release()\n",
    "output.release()\n",
    "# Close all active windows\n",
    "cv2.destroyAllWindows()"
   ]
  },
  {
   "cell_type": "code",
   "execution_count": null,
   "id": "e5cd2d7c",
   "metadata": {},
   "outputs": [],
   "source": [
    "vid_cod = cv2.VideoWriter_fourcc('X','V','I','D')\n",
    "output = cv2.VideoWriter('C:\\\\Users\\\\WangLab\\\\Documents\\\\VideoData\\\\test.mp4', vid_cod, 50.0, (480, 640))"
   ]
  },
  {
   "cell_type": "code",
   "execution_count": null,
   "id": "1f0ff931",
   "metadata": {},
   "outputs": [],
   "source": [
    "# setup named window per camera\n",
    "\n",
    "\n",
    "frame_counts = [0]*NUM_CAMERAS\n",
    "frames_to_grab = 20\n",
    "cam_array.StartGrabbing(1)\n",
    "c = 0\n",
    "while True:\n",
    "    with cam_array.RetrieveResult(10000) as res:\n",
    "        if res.GrabSucceeded():\n",
    "            img_nr = res.ImageNumber\n",
    "            cam_id = res.GetCameraContext()\n",
    "            frame_counts[cam_id] = img_nr\n",
    "            #print(f\"cam #{cam_id}  image #{img_nr}\")\n",
    "            #height = res.Height\n",
    "            #print(height)\n",
    "            # do something with the image ....\n",
    "            img = res.Array\n",
    "            window_name = f'Camera-{cam_id:03}'\n",
    "            cv2.imshow(window_name, img)\n",
    "            if cam_id ==0:\n",
    "                output.write(img)\n",
    "            print(res.BlockID, end='\\r')\n",
    "            res.Release()\n",
    "            # check if all cameras have reached 100 images\n",
    "            k = cv2.waitKey(1)\n",
    "            if k == 27:\n",
    "                break\n",
    "\n",
    "                \n",
    "# Close all active windows\n",
    "output.release()\n",
    "cv2.destroyAllWindows()               \n",
    "cam_array.StopGrabbing()\n"
   ]
  },
  {
   "cell_type": "code",
   "execution_count": null,
   "id": "af06747b",
   "metadata": {},
   "outputs": [],
   "source": [
    "\n",
    "output = cv2.VideoWriter('C:\\\\anaconda\\\\Codes\\\\SA13_033122.avi', vid_cod, 30.0, (640,480))\n",
    "# Loop until you hit the Esc key\n",
    "while True:\n",
    "    # Capture the current frame\n",
    "    ret, frame = cap.read()\n",
    "    # Display the image\n",
    "    if ret:\n",
    "        cv2.imshow('Webcam', frame)\n",
    "        output.write(frame)\n",
    "    # Detect if the Esc key has been pressed\n",
    "    c = cv2.waitKey(1)\n",
    "    if c == 27:\n",
    "        break\n",
    "# Release the video capture object\n",
    "cap.release()\n",
    "output.release()\n",
    "# Close all active windows\n",
    "cv2.destroyAllWindows()\n"
   ]
  },
  {
   "cell_type": "code",
   "execution_count": null,
   "id": "e44c3fd3",
   "metadata": {},
   "outputs": [],
   "source": [
    "output.release()"
   ]
  },
  {
   "cell_type": "code",
   "execution_count": null,
   "id": "08505b9a",
   "metadata": {},
   "outputs": [],
   "source": [
    "cam_array.StopGrabbing()"
   ]
  },
  {
   "cell_type": "code",
   "execution_count": null,
   "id": "7388b78c",
   "metadata": {},
   "outputs": [],
   "source": [
    "# open the camera\n",
    "tlf = py.TlFactory.GetInstance()\n",
    "cam = py.InstantCamera(tlf.CreateFirstDevice())\n",
    "cam.Open()"
   ]
  },
  {
   "cell_type": "code",
   "execution_count": null,
   "id": "4562d091",
   "metadata": {},
   "outputs": [],
   "source": [
    "# enable the chunk that\n",
    "# samples all IO lines on every FrameStart\n",
    "cam.ChunkModeActive = True\n",
    "cam.ChunkSelector = \"LineStatusAll\"\n",
    "cam.ChunkEnable = True"
   ]
  },
  {
   "cell_type": "code",
   "execution_count": null,
   "id": "b4e630b0",
   "metadata": {},
   "outputs": [],
   "source": [
    "cam.ChunkSelector.Symbolics"
   ]
  },
  {
   "cell_type": "code",
   "execution_count": null,
   "id": "3158aa9f",
   "metadata": {},
   "outputs": [],
   "source": [
    "# set max speed\n",
    "cam.Height = cam.Height.Min\n",
    "cam.Width = cam.Width.Min\n",
    "cam.ExposureTime = cam.ExposureTime.Min\n",
    "\n",
    "# limit to 1khz\n",
    "cam.AcquisitionFrameRateEnable = True\n",
    "cam.AcquisitionFrameRate = 1000\n",
    "\n",
    "print( cam.ResultingFrameRate.Value)\n",
    "cam.StartGrabbingMax(1000)\n",
    "\n",
    "io_res = []\n",
    "while cam.IsGrabbing():\n",
    "    with cam.RetrieveResult(1000) as res:\n",
    "        time_stamp = res.TimeStamp\n",
    "        io_res.append((time_stamp, res.ChunkLineStatusAll.Value))\n",
    "        \n",
    "cam.StopGrabbing()"
   ]
  },
  {
   "cell_type": "code",
   "execution_count": null,
   "id": "a284f73b",
   "metadata": {},
   "outputs": [],
   "source": [
    "# list of timestamp + io status\n",
    "io_res[:10]"
   ]
  },
  {
   "cell_type": "code",
   "execution_count": null,
   "id": "1ec129bd",
   "metadata": {},
   "outputs": [],
   "source": [
    "# simple logic analyzer :-)\n",
    "\n",
    "# convert to numpy array\n",
    "io_array = np.array(io_res)\n",
    "# extract first column timestamps\n",
    "x_vals = io_array[:,0]\n",
    "#  start with first timestamp as '0'\n",
    "x_vals -= x_vals[0]\n",
    "\n",
    "# extract second column io values\n",
    "y_vals = io_array[:,1]\n",
    "# for each bit plot the graph\n",
    "for bit in range(8):\n",
    "    \n",
    "    logic_level = ((y_vals & (1<<bit)) != 0)*0.8 +bit\n",
    "    # plot in seconds\n",
    "    plt.plot(x_vals / 1e9, logic_level, label = bit)\n",
    "    \n",
    "plt.xlabel(\"time [s]\")\n",
    "plt.ylabel(\"IO_LINE [#]\")\n",
    "plt.legend()\n",
    "plt.show()"
   ]
  },
  {
   "cell_type": "code",
   "execution_count": null,
   "id": "7bdc9a1c",
   "metadata": {},
   "outputs": [],
   "source": [
    "# get clean powerup state\n",
    "cam.UserSetSelector = \"Default\"\n",
    "cam.UserSetLoad.Execute()\n",
    "\n",
    "#\n",
    "cam.LineSelector = \"Line4\"\n",
    "cam.LineMode = \"Input\"\n",
    "\n",
    "cam.TriggerSelector = \"FrameStart\"\n",
    "cam.TriggerSource = \"Line4\"\n",
    "cam.TriggerMode = \"On\"\n",
    "cam.TriggerActivation.Value"
   ]
  },
  {
   "cell_type": "code",
   "execution_count": null,
   "id": "9767fffa",
   "metadata": {},
   "outputs": [],
   "source": [
    "# definition of event handler class \n",
    "class TriggeredImage(py.ImageEventHandler):\n",
    "    def __init__(self):\n",
    "        super().__init__()\n",
    "        self.grab_times = []\n",
    "    def OnImageGrabbed(self, camera, grabResult):\n",
    "        self.grab_times.append(grabResult.TimeStamp)"
   ]
  },
  {
   "cell_type": "code",
   "execution_count": null,
   "id": "9aadff1e",
   "metadata": {},
   "outputs": [],
   "source": [
    "# create event handler instance\n",
    "image_timestamps = TriggeredImage()\n",
    "\n",
    "# register handler\n",
    "# remove all other handlers\n",
    "cam.RegisterImageEventHandler(image_timestamps, \n",
    "                              py.RegistrationMode_ReplaceAll, \n",
    "                              py.Cleanup_None)\n",
    "\n",
    "# start grabbing with background loop\n",
    "cam.StartGrabbingMax(100, py.GrabStrategy_LatestImages, py.GrabLoop_ProvidedByInstantCamera)\n",
    "# wait ... or do something relevant\n",
    "while cam.IsGrabbing():\n",
    "    time.sleep(0.1)\n",
    "# stop grabbing\n",
    "cam.StopGrabbing()"
   ]
  },
  {
   "cell_type": "code",
   "execution_count": null,
   "id": "be3d493f",
   "metadata": {},
   "outputs": [],
   "source": [
    "frame_delta_s = np.diff(np.array(image_timestamps.grab_times))/1.e9\n",
    "plt.plot(frame_delta_s, \".\")\n",
    "plt.axhline(np.mean(frame_delta_s))"
   ]
  },
  {
   "cell_type": "code",
   "execution_count": null,
   "id": "1f149e11",
   "metadata": {},
   "outputs": [],
   "source": [
    "plt.hist(frame_delta_s  - np.mean(frame_delta_s) , bins=100)\n",
    "plt.xticks(rotation=45)\n",
    "plt.show()"
   ]
  },
  {
   "cell_type": "code",
   "execution_count": null,
   "id": "a8808e78",
   "metadata": {},
   "outputs": [],
   "source": [
    "cam.Close()"
   ]
  },
  {
   "cell_type": "code",
   "execution_count": null,
   "id": "3a41e721",
   "metadata": {},
   "outputs": [],
   "source": []
  }
 ],
 "metadata": {
  "kernelspec": {
   "display_name": "Python 3 (ipykernel)",
   "language": "python",
   "name": "python3"
  },
  "language_info": {
   "codemirror_mode": {
    "name": "ipython",
    "version": 3
   },
   "file_extension": ".py",
   "mimetype": "text/x-python",
   "name": "python",
   "nbconvert_exporter": "python",
   "pygments_lexer": "ipython3",
   "version": "3.7.13"
  }
 },
 "nbformat": 4,
 "nbformat_minor": 5
}
